{
 "cells": [
  {
   "cell_type": "code",
   "execution_count": 12,
   "metadata": {},
   "outputs": [],
   "source": [
    "# from data import load_dataset, load_dataset_session\n",
    "import numpy as np\n",
    "import os\n",
    "import pandas as pd\n",
    "ROOT_DIR = os.getcwd()\n",
    "DATA_DIR = os.path.join(ROOT_DIR, 'data/')"
   ]
  },
  {
   "cell_type": "code",
   "execution_count": 13,
   "metadata": {},
   "outputs": [
    {
     "data": {
      "application/vnd.microsoft.datawrangler.viewer.v0+json": {
       "columns": [
        {
         "name": "index",
         "rawType": "int64",
         "type": "integer"
        },
        {
         "name": "UserID",
         "rawType": "int64",
         "type": "integer"
        },
        {
         "name": "Gender",
         "rawType": "object",
         "type": "string"
        },
        {
         "name": "Age",
         "rawType": "int64",
         "type": "integer"
        },
        {
         "name": "Occupation",
         "rawType": "int64",
         "type": "integer"
        },
        {
         "name": "Zip-code",
         "rawType": "object",
         "type": "string"
        }
       ],
       "conversionMethod": "pd.DataFrame",
       "ref": "8f3357c9-68ad-4a4d-acae-39c78fca9aea",
       "rows": [
        [
         "0",
         "1",
         "F",
         "1",
         "10",
         "48067"
        ],
        [
         "1",
         "2",
         "M",
         "56",
         "16",
         "70072"
        ],
        [
         "2",
         "3",
         "M",
         "25",
         "15",
         "55117"
        ],
        [
         "3",
         "4",
         "M",
         "45",
         "7",
         "02460"
        ],
        [
         "4",
         "5",
         "M",
         "25",
         "20",
         "55455"
        ],
        [
         "5",
         "6",
         "F",
         "50",
         "9",
         "55117"
        ],
        [
         "6",
         "7",
         "M",
         "35",
         "1",
         "06810"
        ],
        [
         "7",
         "8",
         "M",
         "25",
         "12",
         "11413"
        ],
        [
         "8",
         "9",
         "M",
         "25",
         "17",
         "61614"
        ],
        [
         "9",
         "10",
         "F",
         "35",
         "1",
         "95370"
        ],
        [
         "10",
         "11",
         "F",
         "25",
         "1",
         "04093"
        ],
        [
         "11",
         "12",
         "M",
         "25",
         "12",
         "32793"
        ],
        [
         "12",
         "13",
         "M",
         "45",
         "1",
         "93304"
        ],
        [
         "13",
         "14",
         "M",
         "35",
         "0",
         "60126"
        ],
        [
         "14",
         "15",
         "M",
         "25",
         "7",
         "22903"
        ],
        [
         "15",
         "16",
         "F",
         "35",
         "0",
         "20670"
        ],
        [
         "16",
         "17",
         "M",
         "50",
         "1",
         "95350"
        ],
        [
         "17",
         "18",
         "F",
         "18",
         "3",
         "95825"
        ],
        [
         "18",
         "19",
         "M",
         "1",
         "10",
         "48073"
        ],
        [
         "19",
         "20",
         "M",
         "25",
         "14",
         "55113"
        ],
        [
         "20",
         "21",
         "M",
         "18",
         "16",
         "99353"
        ],
        [
         "21",
         "22",
         "M",
         "18",
         "15",
         "53706"
        ],
        [
         "22",
         "23",
         "M",
         "35",
         "0",
         "90049"
        ],
        [
         "23",
         "24",
         "F",
         "25",
         "7",
         "10023"
        ],
        [
         "24",
         "25",
         "M",
         "18",
         "4",
         "01609"
        ],
        [
         "25",
         "26",
         "M",
         "25",
         "7",
         "23112"
        ],
        [
         "26",
         "27",
         "M",
         "25",
         "11",
         "19130"
        ],
        [
         "27",
         "28",
         "F",
         "25",
         "1",
         "14607"
        ],
        [
         "28",
         "29",
         "M",
         "35",
         "7",
         "33407"
        ],
        [
         "29",
         "30",
         "F",
         "35",
         "7",
         "19143"
        ],
        [
         "30",
         "31",
         "M",
         "56",
         "7",
         "06840"
        ],
        [
         "31",
         "32",
         "F",
         "25",
         "0",
         "19355"
        ],
        [
         "32",
         "33",
         "M",
         "45",
         "3",
         "55421"
        ],
        [
         "33",
         "34",
         "F",
         "18",
         "0",
         "02135"
        ],
        [
         "34",
         "35",
         "M",
         "45",
         "1",
         "02482"
        ],
        [
         "35",
         "36",
         "M",
         "25",
         "3",
         "94123"
        ],
        [
         "36",
         "37",
         "F",
         "25",
         "9",
         "66212"
        ],
        [
         "37",
         "38",
         "F",
         "18",
         "4",
         "02215"
        ],
        [
         "38",
         "39",
         "M",
         "18",
         "4",
         "61820"
        ],
        [
         "39",
         "40",
         "M",
         "45",
         "0",
         "10543"
        ],
        [
         "40",
         "41",
         "F",
         "18",
         "4",
         "15116"
        ],
        [
         "41",
         "42",
         "M",
         "25",
         "8",
         "24502"
        ],
        [
         "42",
         "43",
         "M",
         "25",
         "12",
         "60614"
        ],
        [
         "43",
         "44",
         "M",
         "45",
         "17",
         "98052"
        ],
        [
         "44",
         "45",
         "F",
         "45",
         "16",
         "94110"
        ],
        [
         "45",
         "46",
         "M",
         "18",
         "19",
         "75602"
        ],
        [
         "46",
         "47",
         "M",
         "18",
         "4",
         "94305"
        ],
        [
         "47",
         "48",
         "M",
         "25",
         "4",
         "92107"
        ],
        [
         "48",
         "49",
         "M",
         "18",
         "12",
         "77084"
        ],
        [
         "49",
         "50",
         "F",
         "25",
         "2",
         "98133"
        ]
       ],
       "shape": {
        "columns": 5,
        "rows": 6040
       }
      },
      "text/html": [
       "<div>\n",
       "<style scoped>\n",
       "    .dataframe tbody tr th:only-of-type {\n",
       "        vertical-align: middle;\n",
       "    }\n",
       "\n",
       "    .dataframe tbody tr th {\n",
       "        vertical-align: top;\n",
       "    }\n",
       "\n",
       "    .dataframe thead th {\n",
       "        text-align: right;\n",
       "    }\n",
       "</style>\n",
       "<table border=\"1\" class=\"dataframe\">\n",
       "  <thead>\n",
       "    <tr style=\"text-align: right;\">\n",
       "      <th></th>\n",
       "      <th>UserID</th>\n",
       "      <th>Gender</th>\n",
       "      <th>Age</th>\n",
       "      <th>Occupation</th>\n",
       "      <th>Zip-code</th>\n",
       "    </tr>\n",
       "  </thead>\n",
       "  <tbody>\n",
       "    <tr>\n",
       "      <th>0</th>\n",
       "      <td>1</td>\n",
       "      <td>F</td>\n",
       "      <td>1</td>\n",
       "      <td>10</td>\n",
       "      <td>48067</td>\n",
       "    </tr>\n",
       "    <tr>\n",
       "      <th>1</th>\n",
       "      <td>2</td>\n",
       "      <td>M</td>\n",
       "      <td>56</td>\n",
       "      <td>16</td>\n",
       "      <td>70072</td>\n",
       "    </tr>\n",
       "    <tr>\n",
       "      <th>2</th>\n",
       "      <td>3</td>\n",
       "      <td>M</td>\n",
       "      <td>25</td>\n",
       "      <td>15</td>\n",
       "      <td>55117</td>\n",
       "    </tr>\n",
       "    <tr>\n",
       "      <th>3</th>\n",
       "      <td>4</td>\n",
       "      <td>M</td>\n",
       "      <td>45</td>\n",
       "      <td>7</td>\n",
       "      <td>02460</td>\n",
       "    </tr>\n",
       "    <tr>\n",
       "      <th>4</th>\n",
       "      <td>5</td>\n",
       "      <td>M</td>\n",
       "      <td>25</td>\n",
       "      <td>20</td>\n",
       "      <td>55455</td>\n",
       "    </tr>\n",
       "    <tr>\n",
       "      <th>...</th>\n",
       "      <td>...</td>\n",
       "      <td>...</td>\n",
       "      <td>...</td>\n",
       "      <td>...</td>\n",
       "      <td>...</td>\n",
       "    </tr>\n",
       "    <tr>\n",
       "      <th>6035</th>\n",
       "      <td>6036</td>\n",
       "      <td>F</td>\n",
       "      <td>25</td>\n",
       "      <td>15</td>\n",
       "      <td>32603</td>\n",
       "    </tr>\n",
       "    <tr>\n",
       "      <th>6036</th>\n",
       "      <td>6037</td>\n",
       "      <td>F</td>\n",
       "      <td>45</td>\n",
       "      <td>1</td>\n",
       "      <td>76006</td>\n",
       "    </tr>\n",
       "    <tr>\n",
       "      <th>6037</th>\n",
       "      <td>6038</td>\n",
       "      <td>F</td>\n",
       "      <td>56</td>\n",
       "      <td>1</td>\n",
       "      <td>14706</td>\n",
       "    </tr>\n",
       "    <tr>\n",
       "      <th>6038</th>\n",
       "      <td>6039</td>\n",
       "      <td>F</td>\n",
       "      <td>45</td>\n",
       "      <td>0</td>\n",
       "      <td>01060</td>\n",
       "    </tr>\n",
       "    <tr>\n",
       "      <th>6039</th>\n",
       "      <td>6040</td>\n",
       "      <td>M</td>\n",
       "      <td>25</td>\n",
       "      <td>6</td>\n",
       "      <td>11106</td>\n",
       "    </tr>\n",
       "  </tbody>\n",
       "</table>\n",
       "<p>6040 rows × 5 columns</p>\n",
       "</div>"
      ],
      "text/plain": [
       "      UserID Gender  Age  Occupation Zip-code\n",
       "0          1      F    1          10    48067\n",
       "1          2      M   56          16    70072\n",
       "2          3      M   25          15    55117\n",
       "3          4      M   45           7    02460\n",
       "4          5      M   25          20    55455\n",
       "...      ...    ...  ...         ...      ...\n",
       "6035    6036      F   25          15    32603\n",
       "6036    6037      F   45           1    76006\n",
       "6037    6038      F   56           1    14706\n",
       "6038    6039      F   45           0    01060\n",
       "6039    6040      M   25           6    11106\n",
       "\n",
       "[6040 rows x 5 columns]"
      ]
     },
     "execution_count": 13,
     "metadata": {},
     "output_type": "execute_result"
    }
   ],
   "source": [
    "# Load users.dat file\n",
    "users = pd.read_csv(os.path.join(DATA_DIR, 'users.dat'), \n",
    "                    sep='::', \n",
    "                    names=['UserID', 'Gender', 'Age', 'Occupation', 'Zip-code'],\n",
    "                    engine='python')\n",
    "users"
   ]
  },
  {
   "cell_type": "code",
   "execution_count": 14,
   "metadata": {},
   "outputs": [
    {
     "data": {
      "application/vnd.microsoft.datawrangler.viewer.v0+json": {
       "columns": [
        {
         "name": "index",
         "rawType": "int64",
         "type": "integer"
        },
        {
         "name": "MovieID",
         "rawType": "int64",
         "type": "integer"
        },
        {
         "name": "Title",
         "rawType": "object",
         "type": "string"
        },
        {
         "name": "Genres",
         "rawType": "object",
         "type": "string"
        }
       ],
       "conversionMethod": "pd.DataFrame",
       "ref": "1349f150-2e6b-43e6-b345-70bc85b92d1c",
       "rows": [
        [
         "0",
         "1",
         "Toy Story (1995)",
         "Animation|Children's|Comedy"
        ],
        [
         "1",
         "2",
         "Jumanji (1995)",
         "Adventure|Children's|Fantasy"
        ],
        [
         "2",
         "3",
         "Grumpier Old Men (1995)",
         "Comedy|Romance"
        ],
        [
         "3",
         "4",
         "Waiting to Exhale (1995)",
         "Comedy|Drama"
        ],
        [
         "4",
         "5",
         "Father of the Bride Part II (1995)",
         "Comedy"
        ],
        [
         "5",
         "6",
         "Heat (1995)",
         "Action|Crime|Thriller"
        ],
        [
         "6",
         "7",
         "Sabrina (1995)",
         "Comedy|Romance"
        ],
        [
         "7",
         "8",
         "Tom and Huck (1995)",
         "Adventure|Children's"
        ],
        [
         "8",
         "9",
         "Sudden Death (1995)",
         "Action"
        ],
        [
         "9",
         "10",
         "GoldenEye (1995)",
         "Action|Adventure|Thriller"
        ],
        [
         "10",
         "11",
         "American President, The (1995)",
         "Comedy|Drama|Romance"
        ],
        [
         "11",
         "12",
         "Dracula: Dead and Loving It (1995)",
         "Comedy|Horror"
        ],
        [
         "12",
         "13",
         "Balto (1995)",
         "Animation|Children's"
        ],
        [
         "13",
         "14",
         "Nixon (1995)",
         "Drama"
        ],
        [
         "14",
         "15",
         "Cutthroat Island (1995)",
         "Action|Adventure|Romance"
        ],
        [
         "15",
         "16",
         "Casino (1995)",
         "Drama|Thriller"
        ],
        [
         "16",
         "17",
         "Sense and Sensibility (1995)",
         "Drama|Romance"
        ],
        [
         "17",
         "18",
         "Four Rooms (1995)",
         "Thriller"
        ],
        [
         "18",
         "19",
         "Ace Ventura: When Nature Calls (1995)",
         "Comedy"
        ],
        [
         "19",
         "20",
         "Money Train (1995)",
         "Action"
        ],
        [
         "20",
         "21",
         "Get Shorty (1995)",
         "Action|Comedy|Drama"
        ],
        [
         "21",
         "22",
         "Copycat (1995)",
         "Crime|Drama|Thriller"
        ],
        [
         "22",
         "23",
         "Assassins (1995)",
         "Thriller"
        ],
        [
         "23",
         "24",
         "Powder (1995)",
         "Drama|Sci-Fi"
        ],
        [
         "24",
         "25",
         "Leaving Las Vegas (1995)",
         "Drama|Romance"
        ],
        [
         "25",
         "26",
         "Othello (1995)",
         "Drama"
        ],
        [
         "26",
         "27",
         "Now and Then (1995)",
         "Drama"
        ],
        [
         "27",
         "28",
         "Persuasion (1995)",
         "Romance"
        ],
        [
         "28",
         "29",
         "City of Lost Children, The (1995)",
         "Adventure|Sci-Fi"
        ],
        [
         "29",
         "30",
         "Shanghai Triad (Yao a yao yao dao waipo qiao) (1995)",
         "Drama"
        ],
        [
         "30",
         "31",
         "Dangerous Minds (1995)",
         "Drama"
        ],
        [
         "31",
         "32",
         "Twelve Monkeys (1995)",
         "Drama|Sci-Fi"
        ],
        [
         "32",
         "33",
         "Wings of Courage (1995)",
         "Adventure|Romance"
        ],
        [
         "33",
         "34",
         "Babe (1995)",
         "Children's|Comedy|Drama"
        ],
        [
         "34",
         "35",
         "Carrington (1995)",
         "Drama|Romance"
        ],
        [
         "35",
         "36",
         "Dead Man Walking (1995)",
         "Drama"
        ],
        [
         "36",
         "37",
         "Across the Sea of Time (1995)",
         "Documentary"
        ],
        [
         "37",
         "38",
         "It Takes Two (1995)",
         "Comedy"
        ],
        [
         "38",
         "39",
         "Clueless (1995)",
         "Comedy|Romance"
        ],
        [
         "39",
         "40",
         "Cry, the Beloved Country (1995)",
         "Drama"
        ],
        [
         "40",
         "41",
         "Richard III (1995)",
         "Drama|War"
        ],
        [
         "41",
         "42",
         "Dead Presidents (1995)",
         "Action|Crime|Drama"
        ],
        [
         "42",
         "43",
         "Restoration (1995)",
         "Drama"
        ],
        [
         "43",
         "44",
         "Mortal Kombat (1995)",
         "Action|Adventure"
        ],
        [
         "44",
         "45",
         "To Die For (1995)",
         "Comedy|Drama"
        ],
        [
         "45",
         "46",
         "How to Make an American Quilt (1995)",
         "Drama|Romance"
        ],
        [
         "46",
         "47",
         "Seven (Se7en) (1995)",
         "Crime|Thriller"
        ],
        [
         "47",
         "48",
         "Pocahontas (1995)",
         "Animation|Children's|Musical|Romance"
        ],
        [
         "48",
         "49",
         "When Night Is Falling (1995)",
         "Drama|Romance"
        ],
        [
         "49",
         "50",
         "Usual Suspects, The (1995)",
         "Crime|Thriller"
        ]
       ],
       "shape": {
        "columns": 3,
        "rows": 3883
       }
      },
      "text/html": [
       "<div>\n",
       "<style scoped>\n",
       "    .dataframe tbody tr th:only-of-type {\n",
       "        vertical-align: middle;\n",
       "    }\n",
       "\n",
       "    .dataframe tbody tr th {\n",
       "        vertical-align: top;\n",
       "    }\n",
       "\n",
       "    .dataframe thead th {\n",
       "        text-align: right;\n",
       "    }\n",
       "</style>\n",
       "<table border=\"1\" class=\"dataframe\">\n",
       "  <thead>\n",
       "    <tr style=\"text-align: right;\">\n",
       "      <th></th>\n",
       "      <th>MovieID</th>\n",
       "      <th>Title</th>\n",
       "      <th>Genres</th>\n",
       "    </tr>\n",
       "  </thead>\n",
       "  <tbody>\n",
       "    <tr>\n",
       "      <th>0</th>\n",
       "      <td>1</td>\n",
       "      <td>Toy Story (1995)</td>\n",
       "      <td>Animation|Children's|Comedy</td>\n",
       "    </tr>\n",
       "    <tr>\n",
       "      <th>1</th>\n",
       "      <td>2</td>\n",
       "      <td>Jumanji (1995)</td>\n",
       "      <td>Adventure|Children's|Fantasy</td>\n",
       "    </tr>\n",
       "    <tr>\n",
       "      <th>2</th>\n",
       "      <td>3</td>\n",
       "      <td>Grumpier Old Men (1995)</td>\n",
       "      <td>Comedy|Romance</td>\n",
       "    </tr>\n",
       "    <tr>\n",
       "      <th>3</th>\n",
       "      <td>4</td>\n",
       "      <td>Waiting to Exhale (1995)</td>\n",
       "      <td>Comedy|Drama</td>\n",
       "    </tr>\n",
       "    <tr>\n",
       "      <th>4</th>\n",
       "      <td>5</td>\n",
       "      <td>Father of the Bride Part II (1995)</td>\n",
       "      <td>Comedy</td>\n",
       "    </tr>\n",
       "    <tr>\n",
       "      <th>...</th>\n",
       "      <td>...</td>\n",
       "      <td>...</td>\n",
       "      <td>...</td>\n",
       "    </tr>\n",
       "    <tr>\n",
       "      <th>3878</th>\n",
       "      <td>3948</td>\n",
       "      <td>Meet the Parents (2000)</td>\n",
       "      <td>Comedy</td>\n",
       "    </tr>\n",
       "    <tr>\n",
       "      <th>3879</th>\n",
       "      <td>3949</td>\n",
       "      <td>Requiem for a Dream (2000)</td>\n",
       "      <td>Drama</td>\n",
       "    </tr>\n",
       "    <tr>\n",
       "      <th>3880</th>\n",
       "      <td>3950</td>\n",
       "      <td>Tigerland (2000)</td>\n",
       "      <td>Drama</td>\n",
       "    </tr>\n",
       "    <tr>\n",
       "      <th>3881</th>\n",
       "      <td>3951</td>\n",
       "      <td>Two Family House (2000)</td>\n",
       "      <td>Drama</td>\n",
       "    </tr>\n",
       "    <tr>\n",
       "      <th>3882</th>\n",
       "      <td>3952</td>\n",
       "      <td>Contender, The (2000)</td>\n",
       "      <td>Drama|Thriller</td>\n",
       "    </tr>\n",
       "  </tbody>\n",
       "</table>\n",
       "<p>3883 rows × 3 columns</p>\n",
       "</div>"
      ],
      "text/plain": [
       "      MovieID                               Title  \\\n",
       "0           1                    Toy Story (1995)   \n",
       "1           2                      Jumanji (1995)   \n",
       "2           3             Grumpier Old Men (1995)   \n",
       "3           4            Waiting to Exhale (1995)   \n",
       "4           5  Father of the Bride Part II (1995)   \n",
       "...       ...                                 ...   \n",
       "3878     3948             Meet the Parents (2000)   \n",
       "3879     3949          Requiem for a Dream (2000)   \n",
       "3880     3950                    Tigerland (2000)   \n",
       "3881     3951             Two Family House (2000)   \n",
       "3882     3952               Contender, The (2000)   \n",
       "\n",
       "                            Genres  \n",
       "0      Animation|Children's|Comedy  \n",
       "1     Adventure|Children's|Fantasy  \n",
       "2                   Comedy|Romance  \n",
       "3                     Comedy|Drama  \n",
       "4                           Comedy  \n",
       "...                            ...  \n",
       "3878                        Comedy  \n",
       "3879                         Drama  \n",
       "3880                         Drama  \n",
       "3881                         Drama  \n",
       "3882                Drama|Thriller  \n",
       "\n",
       "[3883 rows x 3 columns]"
      ]
     },
     "execution_count": 14,
     "metadata": {},
     "output_type": "execute_result"
    }
   ],
   "source": [
    "# Load movies.dat file with latin-1 encoding to handle special characters\n",
    "movies = pd.read_csv(os.path.join(DATA_DIR, 'movies.dat'), \n",
    "                    sep='::', \n",
    "                    names=['MovieID', 'Title', 'Genres'],\n",
    "                    encoding='latin-1',\n",
    "                    engine='python')\n",
    "movies\n"
   ]
  },
  {
   "cell_type": "code",
   "execution_count": 15,
   "metadata": {},
   "outputs": [
    {
     "data": {
      "application/vnd.microsoft.datawrangler.viewer.v0+json": {
       "columns": [
        {
         "name": "index",
         "rawType": "int64",
         "type": "integer"
        },
        {
         "name": "UserID",
         "rawType": "int64",
         "type": "integer"
        },
        {
         "name": "MovieID",
         "rawType": "int64",
         "type": "integer"
        },
        {
         "name": "Rating",
         "rawType": "int64",
         "type": "integer"
        },
        {
         "name": "Timestamp",
         "rawType": "int64",
         "type": "integer"
        }
       ],
       "conversionMethod": "pd.DataFrame",
       "ref": "041a4f1a-5f5d-466e-afce-ee8a30880088",
       "rows": [
        [
         "0",
         "1",
         "1193",
         "5",
         "978300760"
        ],
        [
         "1",
         "1",
         "661",
         "3",
         "978302109"
        ],
        [
         "2",
         "1",
         "914",
         "3",
         "978301968"
        ],
        [
         "3",
         "1",
         "3408",
         "4",
         "978300275"
        ],
        [
         "4",
         "1",
         "2355",
         "5",
         "978824291"
        ],
        [
         "5",
         "1",
         "1197",
         "3",
         "978302268"
        ],
        [
         "6",
         "1",
         "1287",
         "5",
         "978302039"
        ],
        [
         "7",
         "1",
         "2804",
         "5",
         "978300719"
        ],
        [
         "8",
         "1",
         "594",
         "4",
         "978302268"
        ],
        [
         "9",
         "1",
         "919",
         "4",
         "978301368"
        ],
        [
         "10",
         "1",
         "595",
         "5",
         "978824268"
        ],
        [
         "11",
         "1",
         "938",
         "4",
         "978301752"
        ],
        [
         "12",
         "1",
         "2398",
         "4",
         "978302281"
        ],
        [
         "13",
         "1",
         "2918",
         "4",
         "978302124"
        ],
        [
         "14",
         "1",
         "1035",
         "5",
         "978301753"
        ],
        [
         "15",
         "1",
         "2791",
         "4",
         "978302188"
        ],
        [
         "16",
         "1",
         "2687",
         "3",
         "978824268"
        ],
        [
         "17",
         "1",
         "2018",
         "4",
         "978301777"
        ],
        [
         "18",
         "1",
         "3105",
         "5",
         "978301713"
        ],
        [
         "19",
         "1",
         "2797",
         "4",
         "978302039"
        ],
        [
         "20",
         "1",
         "2321",
         "3",
         "978302205"
        ],
        [
         "21",
         "1",
         "720",
         "3",
         "978300760"
        ],
        [
         "22",
         "1",
         "1270",
         "5",
         "978300055"
        ],
        [
         "23",
         "1",
         "527",
         "5",
         "978824195"
        ],
        [
         "24",
         "1",
         "2340",
         "3",
         "978300103"
        ],
        [
         "25",
         "1",
         "48",
         "5",
         "978824351"
        ],
        [
         "26",
         "1",
         "1097",
         "4",
         "978301953"
        ],
        [
         "27",
         "1",
         "1721",
         "4",
         "978300055"
        ],
        [
         "28",
         "1",
         "1545",
         "4",
         "978824139"
        ],
        [
         "29",
         "1",
         "745",
         "3",
         "978824268"
        ],
        [
         "30",
         "1",
         "2294",
         "4",
         "978824291"
        ],
        [
         "31",
         "1",
         "3186",
         "4",
         "978300019"
        ],
        [
         "32",
         "1",
         "1566",
         "4",
         "978824330"
        ],
        [
         "33",
         "1",
         "588",
         "4",
         "978824268"
        ],
        [
         "34",
         "1",
         "1907",
         "4",
         "978824330"
        ],
        [
         "35",
         "1",
         "783",
         "4",
         "978824291"
        ],
        [
         "36",
         "1",
         "1836",
         "5",
         "978300172"
        ],
        [
         "37",
         "1",
         "1022",
         "5",
         "978300055"
        ],
        [
         "38",
         "1",
         "2762",
         "4",
         "978302091"
        ],
        [
         "39",
         "1",
         "150",
         "5",
         "978301777"
        ],
        [
         "40",
         "1",
         "1",
         "5",
         "978824268"
        ],
        [
         "41",
         "1",
         "1961",
         "5",
         "978301590"
        ],
        [
         "42",
         "1",
         "1962",
         "4",
         "978301753"
        ],
        [
         "43",
         "1",
         "2692",
         "4",
         "978301570"
        ],
        [
         "44",
         "1",
         "260",
         "4",
         "978300760"
        ],
        [
         "45",
         "1",
         "1028",
         "5",
         "978301777"
        ],
        [
         "46",
         "1",
         "1029",
         "5",
         "978302205"
        ],
        [
         "47",
         "1",
         "1207",
         "4",
         "978300719"
        ],
        [
         "48",
         "1",
         "2028",
         "5",
         "978301619"
        ],
        [
         "49",
         "1",
         "531",
         "4",
         "978302149"
        ]
       ],
       "shape": {
        "columns": 4,
        "rows": 1000209
       }
      },
      "text/html": [
       "<div>\n",
       "<style scoped>\n",
       "    .dataframe tbody tr th:only-of-type {\n",
       "        vertical-align: middle;\n",
       "    }\n",
       "\n",
       "    .dataframe tbody tr th {\n",
       "        vertical-align: top;\n",
       "    }\n",
       "\n",
       "    .dataframe thead th {\n",
       "        text-align: right;\n",
       "    }\n",
       "</style>\n",
       "<table border=\"1\" class=\"dataframe\">\n",
       "  <thead>\n",
       "    <tr style=\"text-align: right;\">\n",
       "      <th></th>\n",
       "      <th>UserID</th>\n",
       "      <th>MovieID</th>\n",
       "      <th>Rating</th>\n",
       "      <th>Timestamp</th>\n",
       "    </tr>\n",
       "  </thead>\n",
       "  <tbody>\n",
       "    <tr>\n",
       "      <th>0</th>\n",
       "      <td>1</td>\n",
       "      <td>1193</td>\n",
       "      <td>5</td>\n",
       "      <td>978300760</td>\n",
       "    </tr>\n",
       "    <tr>\n",
       "      <th>1</th>\n",
       "      <td>1</td>\n",
       "      <td>661</td>\n",
       "      <td>3</td>\n",
       "      <td>978302109</td>\n",
       "    </tr>\n",
       "    <tr>\n",
       "      <th>2</th>\n",
       "      <td>1</td>\n",
       "      <td>914</td>\n",
       "      <td>3</td>\n",
       "      <td>978301968</td>\n",
       "    </tr>\n",
       "    <tr>\n",
       "      <th>3</th>\n",
       "      <td>1</td>\n",
       "      <td>3408</td>\n",
       "      <td>4</td>\n",
       "      <td>978300275</td>\n",
       "    </tr>\n",
       "    <tr>\n",
       "      <th>4</th>\n",
       "      <td>1</td>\n",
       "      <td>2355</td>\n",
       "      <td>5</td>\n",
       "      <td>978824291</td>\n",
       "    </tr>\n",
       "    <tr>\n",
       "      <th>...</th>\n",
       "      <td>...</td>\n",
       "      <td>...</td>\n",
       "      <td>...</td>\n",
       "      <td>...</td>\n",
       "    </tr>\n",
       "    <tr>\n",
       "      <th>1000204</th>\n",
       "      <td>6040</td>\n",
       "      <td>1091</td>\n",
       "      <td>1</td>\n",
       "      <td>956716541</td>\n",
       "    </tr>\n",
       "    <tr>\n",
       "      <th>1000205</th>\n",
       "      <td>6040</td>\n",
       "      <td>1094</td>\n",
       "      <td>5</td>\n",
       "      <td>956704887</td>\n",
       "    </tr>\n",
       "    <tr>\n",
       "      <th>1000206</th>\n",
       "      <td>6040</td>\n",
       "      <td>562</td>\n",
       "      <td>5</td>\n",
       "      <td>956704746</td>\n",
       "    </tr>\n",
       "    <tr>\n",
       "      <th>1000207</th>\n",
       "      <td>6040</td>\n",
       "      <td>1096</td>\n",
       "      <td>4</td>\n",
       "      <td>956715648</td>\n",
       "    </tr>\n",
       "    <tr>\n",
       "      <th>1000208</th>\n",
       "      <td>6040</td>\n",
       "      <td>1097</td>\n",
       "      <td>4</td>\n",
       "      <td>956715569</td>\n",
       "    </tr>\n",
       "  </tbody>\n",
       "</table>\n",
       "<p>1000209 rows × 4 columns</p>\n",
       "</div>"
      ],
      "text/plain": [
       "         UserID  MovieID  Rating  Timestamp\n",
       "0             1     1193       5  978300760\n",
       "1             1      661       3  978302109\n",
       "2             1      914       3  978301968\n",
       "3             1     3408       4  978300275\n",
       "4             1     2355       5  978824291\n",
       "...         ...      ...     ...        ...\n",
       "1000204    6040     1091       1  956716541\n",
       "1000205    6040     1094       5  956704887\n",
       "1000206    6040      562       5  956704746\n",
       "1000207    6040     1096       4  956715648\n",
       "1000208    6040     1097       4  956715569\n",
       "\n",
       "[1000209 rows x 4 columns]"
      ]
     },
     "execution_count": 15,
     "metadata": {},
     "output_type": "execute_result"
    }
   ],
   "source": [
    "# Load ratings.dat file\n",
    "ratings = pd.read_csv(os.path.join(DATA_DIR, 'ratings.dat'), \n",
    "                        sep='::', \n",
    "                        names=['UserID', 'MovieID', 'Rating', 'Timestamp'],\n",
    "                        engine='python')\n",
    "ratings\n"
   ]
  },
  {
   "cell_type": "code",
   "execution_count": null,
   "metadata": {},
   "outputs": [],
   "source": []
  },
  {
   "cell_type": "code",
   "execution_count": null,
   "metadata": {},
   "outputs": [],
   "source": []
  },
  {
   "cell_type": "code",
   "execution_count": null,
   "metadata": {},
   "outputs": [],
   "source": []
  },
  {
   "cell_type": "code",
   "execution_count": null,
   "metadata": {},
   "outputs": [],
   "source": []
  },
  {
   "cell_type": "code",
   "execution_count": null,
   "metadata": {},
   "outputs": [],
   "source": []
  },
  {
   "cell_type": "code",
   "execution_count": null,
   "metadata": {},
   "outputs": [],
   "source": []
  },
  {
   "cell_type": "code",
   "execution_count": null,
   "metadata": {},
   "outputs": [],
   "source": []
  },
  {
   "cell_type": "code",
   "execution_count": null,
   "metadata": {},
   "outputs": [],
   "source": []
  },
  {
   "cell_type": "code",
   "execution_count": null,
   "metadata": {},
   "outputs": [],
   "source": []
  },
  {
   "cell_type": "code",
   "execution_count": null,
   "metadata": {},
   "outputs": [],
   "source": []
  },
  {
   "cell_type": "code",
   "execution_count": null,
   "metadata": {},
   "outputs": [],
   "source": []
  },
  {
   "cell_type": "code",
   "execution_count": null,
   "metadata": {},
   "outputs": [],
   "source": []
  },
  {
   "cell_type": "code",
   "execution_count": null,
   "metadata": {},
   "outputs": [],
   "source": []
  },
  {
   "cell_type": "code",
   "execution_count": null,
   "metadata": {},
   "outputs": [],
   "source": []
  },
  {
   "cell_type": "code",
   "execution_count": null,
   "metadata": {},
   "outputs": [],
   "source": []
  },
  {
   "cell_type": "code",
   "execution_count": null,
   "metadata": {},
   "outputs": [],
   "source": []
  },
  {
   "cell_type": "code",
   "execution_count": null,
   "metadata": {},
   "outputs": [],
   "source": []
  },
  {
   "cell_type": "code",
   "execution_count": null,
   "metadata": {},
   "outputs": [],
   "source": []
  },
  {
   "cell_type": "code",
   "execution_count": null,
   "metadata": {},
   "outputs": [],
   "source": []
  },
  {
   "cell_type": "code",
   "execution_count": null,
   "metadata": {},
   "outputs": [],
   "source": []
  },
  {
   "cell_type": "code",
   "execution_count": null,
   "metadata": {},
   "outputs": [],
   "source": []
  },
  {
   "cell_type": "code",
   "execution_count": null,
   "metadata": {},
   "outputs": [],
   "source": []
  },
  {
   "cell_type": "code",
   "execution_count": null,
   "metadata": {},
   "outputs": [],
   "source": []
  },
  {
   "cell_type": "code",
   "execution_count": null,
   "metadata": {},
   "outputs": [],
   "source": []
  },
  {
   "cell_type": "code",
   "execution_count": null,
   "metadata": {},
   "outputs": [],
   "source": []
  },
  {
   "cell_type": "code",
   "execution_count": null,
   "metadata": {},
   "outputs": [],
   "source": []
  },
  {
   "cell_type": "code",
   "execution_count": null,
   "metadata": {},
   "outputs": [],
   "source": []
  },
  {
   "cell_type": "code",
   "execution_count": null,
   "metadata": {},
   "outputs": [],
   "source": []
  },
  {
   "cell_type": "code",
   "execution_count": null,
   "metadata": {},
   "outputs": [],
   "source": []
  },
  {
   "cell_type": "code",
   "execution_count": null,
   "metadata": {},
   "outputs": [],
   "source": []
  }
 ],
 "metadata": {
  "kernelspec": {
   "display_name": "rl_rs",
   "language": "python",
   "name": "python3"
  },
  "language_info": {
   "codemirror_mode": {
    "name": "ipython",
    "version": 3
   },
   "file_extension": ".py",
   "mimetype": "text/x-python",
   "name": "python",
   "nbconvert_exporter": "python",
   "pygments_lexer": "ipython3",
   "version": "3.11.2"
  }
 },
 "nbformat": 4,
 "nbformat_minor": 2
}
